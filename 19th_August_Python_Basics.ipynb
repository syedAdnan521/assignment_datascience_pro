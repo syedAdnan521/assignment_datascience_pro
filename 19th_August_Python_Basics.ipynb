{
 "cells": [
  {
   "cell_type": "code",
   "execution_count": 7,
   "id": "8d2e711e-03f4-4cb4-afa7-cc1dd2f908cf",
   "metadata": {},
   "outputs": [
    {
     "name": "stdout",
     "output_type": "stream",
     "text": [
      "x = 14  and  y =  27\n"
     ]
    }
   ],
   "source": [
    "# Qus: 1 \n",
    "# Two variable with some integer value \n",
    "x = 27 \n",
    "y = 14 \n",
    "\n",
    "# let's add both the integers ,and give them a value of x \n",
    "\n",
    "x = x + y \n",
    "\n",
    "# subtract it to give a value to y \n",
    "y = x - y \n",
    "x = x - y \n",
    "    \n",
    "print( \"x =\" ,x , \" and  y = \", y )  "
   ]
  },
  {
   "cell_type": "code",
   "execution_count": 10,
   "id": "c5ab061d-8e66-4925-bea3-d7258244a4c8",
   "metadata": {},
   "outputs": [
    {
     "name": "stdin",
     "output_type": "stream",
     "text": [
      "enter a length of a rectangle  5\n",
      "enter a width of a rectangle 5\n"
     ]
    },
    {
     "name": "stdout",
     "output_type": "stream",
     "text": [
      "area of a rectangle is 25\n"
     ]
    }
   ],
   "source": [
    "# Qus: 2 \n",
    "\n",
    "l = int(input(\"enter a length of a rectangle \"))\n",
    "w = int(input(\"enter a width of a rectangle\"))\n",
    "\n",
    "area = l*w\n",
    "print(\"area of a rectangle is\", area)"
   ]
  },
  {
   "cell_type": "code",
   "execution_count": 11,
   "id": "05091d57-2896-41ee-bdd6-555e72a547cf",
   "metadata": {},
   "outputs": [],
   "source": [
    "# string based question "
   ]
  },
  {
   "cell_type": "code",
   "execution_count": 13,
   "id": "d481b612-658f-45f1-bacb-40effaf274f8",
   "metadata": {},
   "outputs": [
    {
     "name": "stdin",
     "output_type": "stream",
     "text": [
      "enter string to find out length adnan\n"
     ]
    },
    {
     "name": "stdout",
     "output_type": "stream",
     "text": [
      "5\n"
     ]
    }
   ],
   "source": [
    "string = str(input(\"enter string to find out length\"))\n",
    "str_len = len(string)\n",
    "print(str_len)"
   ]
  },
  {
   "cell_type": "code",
   "execution_count": 1,
   "id": "c3bf8058-61e5-4528-a45c-b36a21002453",
   "metadata": {},
   "outputs": [
    {
     "name": "stdin",
     "output_type": "stream",
     "text": [
      "enter your sentence adnan is a good boy \n"
     ]
    },
    {
     "name": "stdout",
     "output_type": "stream",
     "text": [
      "7\n"
     ]
    }
   ],
   "source": [
    "# Qus 2 : with the help of loop vowels can be find out , i find this only method in my mind to solve this \n",
    "vowels = \"aeiouAEIOU\"\n",
    "vowel_count = 0\n",
    "user_input = input(\"enter your sentence\")\n",
    "for i in user_input:\n",
    "    if i in vowels:\n",
    "        vowel_count += 1\n",
    "print(vowel_count)        \n"
   ]
  },
  {
   "cell_type": "code",
   "execution_count": 2,
   "id": "4ce75bbd-aba0-4d22-8f21-b53a737346ea",
   "metadata": {},
   "outputs": [
    {
     "name": "stdout",
     "output_type": "stream",
     "text": [
      "!dlroW olleH\n"
     ]
    }
   ],
   "source": [
    "# Qus 3 :\n",
    "given_string = \"Hello World!\"\n",
    "reverse_str = given_string[::-1]\n",
    "print(reverse_str)"
   ]
  },
  {
   "cell_type": "code",
   "execution_count": 9,
   "id": "1e328495-b130-4480-bdd5-947b1629dfba",
   "metadata": {},
   "outputs": [
    {
     "name": "stdin",
     "output_type": "stream",
     "text": [
      "enter a word to check PHP\n"
     ]
    },
    {
     "name": "stdout",
     "output_type": "stream",
     "text": [
      "PHP is a palindrome\n"
     ]
    }
   ],
   "source": [
    "# Qus 4 : below is solution how to check palindrom\n",
    "check_palindrome = input(\"enter a word to check\")\n",
    "# compare given string with proper and reverse order with help of indexes . [::-1] is for reverse order \n",
    "if check_palindrome[0::] == check_palindrome[::-1]:\n",
    "    print(check_palindrome,\"is a palindrome\")\n",
    "else :\n",
    "    print(check_palindrome, \"is not a palinromic word\")\n",
    "    \n",
    "\n"
   ]
  },
  {
   "cell_type": "code",
   "execution_count": 14,
   "id": "0dc9cdb9-3128-48a7-8630-f34322cd1fe4",
   "metadata": {},
   "outputs": [
    {
     "name": "stdin",
     "output_type": "stream",
     "text": [
      "enter sentence or word to remove spaces adnan\n"
     ]
    },
    {
     "name": "stdout",
     "output_type": "stream",
     "text": [
      "adnan\n"
     ]
    }
   ],
   "source": [
    "# Qus 5 : remove spaces , below i have use replace method to remove all the extra space, as we know in a string spaces also count so replace method \n",
    "# find out blank space(\" \")  and replace them with no space(\"\").\n",
    "\n",
    "str_space = input(\"enter sentence or word to remove spaces\")\n",
    "removed_space = str_space.replace(\" \",\"\")\n",
    "print(removed_space)"
   ]
  },
  {
   "cell_type": "code",
   "execution_count": 10,
   "id": "6d5ba110-7f48-43bc-8e2b-3bc2330b5ffb",
   "metadata": {},
   "outputs": [],
   "source": []
  },
  {
   "cell_type": "code",
   "execution_count": null,
   "id": "01d99bf5-0bfd-4942-b41e-94fe246aef7c",
   "metadata": {},
   "outputs": [],
   "source": []
  },
  {
   "cell_type": "code",
   "execution_count": null,
   "id": "a754eb60-2a7f-454e-9876-076f325e7761",
   "metadata": {},
   "outputs": [],
   "source": []
  }
 ],
 "metadata": {
  "kernelspec": {
   "display_name": "Python 3 (ipykernel)",
   "language": "python",
   "name": "python3"
  },
  "language_info": {
   "codemirror_mode": {
    "name": "ipython",
    "version": 3
   },
   "file_extension": ".py",
   "mimetype": "text/x-python",
   "name": "python",
   "nbconvert_exporter": "python",
   "pygments_lexer": "ipython3",
   "version": "3.10.8"
  }
 },
 "nbformat": 4,
 "nbformat_minor": 5
}
