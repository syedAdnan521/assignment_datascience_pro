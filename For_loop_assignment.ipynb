{
 "cells": [
  {
   "cell_type": "code",
   "execution_count": 1,
   "id": "4eb13294-eee7-49d1-b075-cf26551cb227",
   "metadata": {},
   "outputs": [
    {
     "name": "stdout",
     "output_type": "stream",
     "text": [
      "1\n",
      "2\n",
      "3\n",
      "4\n",
      "5\n",
      "6\n",
      "7\n",
      "8\n",
      "9\n",
      "10\n"
     ]
    }
   ],
   "source": [
    "# basic level \n",
    "# Qus: \n",
    "for i in range(1,11):\n",
    "    print(i)"
   ]
  },
  {
   "cell_type": "code",
   "execution_count": 2,
   "id": "3d4790a1-e839-49cb-ad80-d4892429ddb5",
   "metadata": {},
   "outputs": [
    {
     "name": "stdout",
     "output_type": "stream",
     "text": [
      "73\n"
     ]
    }
   ],
   "source": [
    "#Qus : \n",
    "li = [1,2,3,4,5,6,7,8,9,10,11,7]\n",
    "total_sum = 0\n",
    "for i in li:\n",
    "    total_sum =  total_sum + i\n",
    "print(total_sum)\n",
    "    \n"
   ]
  },
  {
   "cell_type": "code",
   "execution_count": 3,
   "id": "7dab265e-5de1-4b7b-91e9-611b6122c4d4",
   "metadata": {},
   "outputs": [
    {
     "name": "stdout",
     "output_type": "stream",
     "text": [
      "sllikswp\n"
     ]
    }
   ],
   "source": [
    "# Qus : \n",
    "# explanation : we declare empty string \"l1\" , so that loop iterate nd then store string into l1. \n",
    "string = \"pwskills\"\n",
    "l1 = \"\"\n",
    "for char in string:\n",
    "# first alphabet is p + l1 (for now l1 is empty), 2nd char is w + l1 , now l1 has stored p in it , we give a declaration so first element comes then string     \n",
    "    l1 = char + l1 \n",
    "print(l1)\n",
    "    \n",
    "    \n"
   ]
  },
  {
   "cell_type": "code",
   "execution_count": 4,
   "id": "0b7274dd-9bdb-486f-b45b-2cc44e8b4527",
   "metadata": {},
   "outputs": [
    {
     "ename": "KeyboardInterrupt",
     "evalue": "Interrupted by user",
     "output_type": "error",
     "traceback": [
      "\u001b[0;31m---------------------------------------------------------------------------\u001b[0m",
      "\u001b[0;31mKeyboardInterrupt\u001b[0m                         Traceback (most recent call last)",
      "Cell \u001b[0;32mIn[4], line 2\u001b[0m\n\u001b[1;32m      1\u001b[0m \u001b[38;5;66;03m# Qus :\u001b[39;00m\n\u001b[0;32m----> 2\u001b[0m number \u001b[38;5;241m=\u001b[39m \u001b[38;5;28mint\u001b[39m(\u001b[38;5;28;43minput\u001b[39;49m\u001b[43m(\u001b[49m\u001b[38;5;124;43m\"\u001b[39;49m\u001b[38;5;124;43mEnter a number: \u001b[39;49m\u001b[38;5;124;43m\"\u001b[39;49m\u001b[43m)\u001b[49m)\n\u001b[1;32m      3\u001b[0m factorial \u001b[38;5;241m=\u001b[39m \u001b[38;5;241m1\u001b[39m\n\u001b[1;32m      4\u001b[0m \u001b[38;5;28;01mfor\u001b[39;00m i \u001b[38;5;129;01min\u001b[39;00m \u001b[38;5;28mrange\u001b[39m(\u001b[38;5;241m1\u001b[39m,number \u001b[38;5;241m+\u001b[39m \u001b[38;5;241m1\u001b[39m):\n",
      "File \u001b[0;32m/opt/conda/lib/python3.10/site-packages/ipykernel/kernelbase.py:1175\u001b[0m, in \u001b[0;36mKernel.raw_input\u001b[0;34m(self, prompt)\u001b[0m\n\u001b[1;32m   1171\u001b[0m \u001b[38;5;28;01mif\u001b[39;00m \u001b[38;5;129;01mnot\u001b[39;00m \u001b[38;5;28mself\u001b[39m\u001b[38;5;241m.\u001b[39m_allow_stdin:\n\u001b[1;32m   1172\u001b[0m     \u001b[38;5;28;01mraise\u001b[39;00m StdinNotImplementedError(\n\u001b[1;32m   1173\u001b[0m         \u001b[38;5;124m\"\u001b[39m\u001b[38;5;124mraw_input was called, but this frontend does not support input requests.\u001b[39m\u001b[38;5;124m\"\u001b[39m\n\u001b[1;32m   1174\u001b[0m     )\n\u001b[0;32m-> 1175\u001b[0m \u001b[38;5;28;01mreturn\u001b[39;00m \u001b[38;5;28;43mself\u001b[39;49m\u001b[38;5;241;43m.\u001b[39;49m\u001b[43m_input_request\u001b[49m\u001b[43m(\u001b[49m\n\u001b[1;32m   1176\u001b[0m \u001b[43m    \u001b[49m\u001b[38;5;28;43mstr\u001b[39;49m\u001b[43m(\u001b[49m\u001b[43mprompt\u001b[49m\u001b[43m)\u001b[49m\u001b[43m,\u001b[49m\n\u001b[1;32m   1177\u001b[0m \u001b[43m    \u001b[49m\u001b[38;5;28;43mself\u001b[39;49m\u001b[38;5;241;43m.\u001b[39;49m\u001b[43m_parent_ident\u001b[49m\u001b[43m[\u001b[49m\u001b[38;5;124;43m\"\u001b[39;49m\u001b[38;5;124;43mshell\u001b[39;49m\u001b[38;5;124;43m\"\u001b[39;49m\u001b[43m]\u001b[49m\u001b[43m,\u001b[49m\n\u001b[1;32m   1178\u001b[0m \u001b[43m    \u001b[49m\u001b[38;5;28;43mself\u001b[39;49m\u001b[38;5;241;43m.\u001b[39;49m\u001b[43mget_parent\u001b[49m\u001b[43m(\u001b[49m\u001b[38;5;124;43m\"\u001b[39;49m\u001b[38;5;124;43mshell\u001b[39;49m\u001b[38;5;124;43m\"\u001b[39;49m\u001b[43m)\u001b[49m\u001b[43m,\u001b[49m\n\u001b[1;32m   1179\u001b[0m \u001b[43m    \u001b[49m\u001b[43mpassword\u001b[49m\u001b[38;5;241;43m=\u001b[39;49m\u001b[38;5;28;43;01mFalse\u001b[39;49;00m\u001b[43m,\u001b[49m\n\u001b[1;32m   1180\u001b[0m \u001b[43m\u001b[49m\u001b[43m)\u001b[49m\n",
      "File \u001b[0;32m/opt/conda/lib/python3.10/site-packages/ipykernel/kernelbase.py:1217\u001b[0m, in \u001b[0;36mKernel._input_request\u001b[0;34m(self, prompt, ident, parent, password)\u001b[0m\n\u001b[1;32m   1214\u001b[0m             \u001b[38;5;28;01mbreak\u001b[39;00m\n\u001b[1;32m   1215\u001b[0m \u001b[38;5;28;01mexcept\u001b[39;00m \u001b[38;5;167;01mKeyboardInterrupt\u001b[39;00m:\n\u001b[1;32m   1216\u001b[0m     \u001b[38;5;66;03m# re-raise KeyboardInterrupt, to truncate traceback\u001b[39;00m\n\u001b[0;32m-> 1217\u001b[0m     \u001b[38;5;28;01mraise\u001b[39;00m \u001b[38;5;167;01mKeyboardInterrupt\u001b[39;00m(\u001b[38;5;124m\"\u001b[39m\u001b[38;5;124mInterrupted by user\u001b[39m\u001b[38;5;124m\"\u001b[39m) \u001b[38;5;28;01mfrom\u001b[39;00m \u001b[38;5;28mNone\u001b[39m\n\u001b[1;32m   1218\u001b[0m \u001b[38;5;28;01mexcept\u001b[39;00m \u001b[38;5;167;01mException\u001b[39;00m:\n\u001b[1;32m   1219\u001b[0m     \u001b[38;5;28mself\u001b[39m\u001b[38;5;241m.\u001b[39mlog\u001b[38;5;241m.\u001b[39mwarning(\u001b[38;5;124m\"\u001b[39m\u001b[38;5;124mInvalid Message:\u001b[39m\u001b[38;5;124m\"\u001b[39m, exc_info\u001b[38;5;241m=\u001b[39m\u001b[38;5;28;01mTrue\u001b[39;00m)\n",
      "\u001b[0;31mKeyboardInterrupt\u001b[0m: Interrupted by user"
     ]
    }
   ],
   "source": [
    "# Qus :\n",
    "number = int(input(\"Enter a number: \"))\n",
    "factorial = 1\n",
    "for i in range(1,number + 1):\n",
    "    factorial = factorial * i \n",
    "print(factorial)    \n",
    "    "
   ]
  },
  {
   "cell_type": "code",
   "execution_count": null,
   "id": "3d247e43-2aaa-421f-9231-793dd124af87",
   "metadata": {},
   "outputs": [],
   "source": [
    "# Qus : Create a program to print the multiplication table of a given number using a `for` loop.\n",
    "number = int(input(\"Enter a number: \"))\n",
    "multiple = 1 \n",
    "for i in range(1,11):\n",
    "    i = number * i \n",
    "    print(i)"
   ]
  },
  {
   "cell_type": "code",
   "execution_count": null,
   "id": "e9d24545-e74c-4d0a-8c6b-d18ab6a832af",
   "metadata": {},
   "outputs": [],
   "source": [
    "# Qus: Write a program that counts the number of even and odd numbers in a list using a `for` loop.\n",
    "numbers = [1,2,3,4,5,6,7,8,9,10,15,48,63,98,75,21,35,32]\n",
    "even_count = 0\n",
    "odd_count = 0\n",
    "\n",
    "for i in numbers:\n",
    "    if i % 2 == 0:\n",
    "        even_count += 1\n",
    "    else :\n",
    "        odd_count += 1 \n",
    "print(\"even count is \", even_count)\n",
    "print(\"odd count is \", odd_count)\n"
   ]
  },
  {
   "cell_type": "code",
   "execution_count": null,
   "id": "10934c86-cd7f-4185-82b7-9784d8abc743",
   "metadata": {},
   "outputs": [],
   "source": [
    "# 7. Develop a program that prints the squares of numbers from 1 to 5 using a `for` loop.\n",
    "\n",
    "for i in range(1,6):\n",
    "    i = i*i\n",
    "    print(i)\n"
   ]
  },
  {
   "cell_type": "code",
   "execution_count": null,
   "id": "1fa01932-ba87-43c5-b016-a194694be12a",
   "metadata": {},
   "outputs": [],
   "source": [
    "# Qus : Create a program to find the length of a string without using the `len()` function.\n",
    "string = \"pwskills\"\n",
    "string_count = 0\n",
    "for i in string:\n",
    "    string_count += 1  \n",
    "print(string_count)"
   ]
  },
  {
   "cell_type": "code",
   "execution_count": null,
   "id": "19c170f2-6366-4624-af3f-2c7b81b1c425",
   "metadata": {},
   "outputs": [],
   "source": [
    "# Qus ; Write a program that calculates the average of a list of numbers using a `for` loop.\n",
    "def average_calculator(number_list):\n",
    "    sum_of_num = 0\n",
    "    count_of_num = 0\n",
    "    for i in number_list:\n",
    "        count_of_num += 1\n",
    "        sum_of_num = sum_of_num + i\n",
    "    average = sum_of_num / count_of_num\n",
    "    return \"average for a given list is\", average "
   ]
  },
  {
   "cell_type": "code",
   "execution_count": null,
   "id": "76cc3869-7395-4aa6-a2ed-14771dfca085",
   "metadata": {},
   "outputs": [],
   "source": [
    "number_list = [2,4,6,7,8,9,10,25,48]\n",
    "average_calculator(number_list)"
   ]
  },
  {
   "cell_type": "code",
   "execution_count": null,
   "id": "682f0494-4787-4325-83d3-158c5bebc579",
   "metadata": {},
   "outputs": [],
   "source": [
    "# Qus : Develop a program that prints the first `n` Fibonacci numbers using a `for` loop.\n",
    "def fib(n):\n",
    "    a,b = 0 , 1 \n",
    "    if n <= 1:\n",
    "        return n\n",
    "    else :\n",
    "        for i in range(2,n+1):\n",
    "            next_fib = a + b\n",
    "            a,b = b, next_fib\n",
    "        print(next_fib)\n",
    "            \n",
    "             \n",
    "            "
   ]
  },
  {
   "cell_type": "code",
   "execution_count": null,
   "id": "e79421a4-4f07-426c-b61a-b710c6362fc4",
   "metadata": {},
   "outputs": [],
   "source": [
    "fib(10)"
   ]
  },
  {
   "cell_type": "code",
   "execution_count": 71,
   "id": "6f941d30-51c0-436d-8c5a-18a51eda6418",
   "metadata": {},
   "outputs": [
    {
     "name": "stdout",
     "output_type": "stream",
     "text": [
      "Not available\n"
     ]
    }
   ],
   "source": [
    "# QUS: Write a program to check if a given list contains any duplicates using a `for` loop.\n",
    "l1 = [\"adnan\",\"affan\",\"farhan\",\"husain\",\"hassan\",\"huda\"]\n",
    "sets = {} \n",
    "for item in l1:\n",
    "        sets[item] = item\n",
    "\n",
    "if(len(sets) == len(l1)) :\n",
    "     print('Not available')\n",
    "else:\n",
    "     print('Duplicate available')\n",
    "    "
   ]
  },
  {
   "cell_type": "code",
   "execution_count": 100,
   "id": "7af834cd-3be5-4633-aa60-f5abcc1a9fef",
   "metadata": {},
   "outputs": [
    {
     "name": "stdout",
     "output_type": "stream",
     "text": [
      "2 is prime\n",
      "3 is prime\n",
      "4 is composite\n",
      "5  is prime\n",
      "6 is composite\n",
      "7  is prime\n",
      "8 is composite\n",
      "9 is composite\n",
      "10 is composite\n",
      "11  is prime\n",
      "12 is composite\n",
      "13  is prime\n",
      "14 is composite\n",
      "15 is composite\n",
      "16 is composite\n",
      "17  is prime\n",
      "18 is composite\n",
      "19  is prime\n",
      "20 is composite\n",
      "21 is composite\n",
      "22 is composite\n",
      "23  is prime\n",
      "24 is composite\n",
      "25  is prime\n",
      "26 is composite\n",
      "27 is composite\n",
      "28 is composite\n",
      "29  is prime\n",
      "30 is composite\n",
      "31  is prime\n",
      "32 is composite\n",
      "33 is composite\n",
      "34 is composite\n",
      "35  is prime\n",
      "36 is composite\n",
      "37  is prime\n",
      "38 is composite\n",
      "39 is composite\n",
      "40 is composite\n",
      "41  is prime\n",
      "42 is composite\n",
      "43  is prime\n",
      "44 is composite\n",
      "45 is composite\n",
      "46 is composite\n",
      "47  is prime\n",
      "48 is composite\n",
      "49  is prime\n",
      "50 is composite\n"
     ]
    }
   ],
   "source": [
    "# Qus : Create a program that prints the prime numbers in a given range using a `for` loop.\n",
    "for number in range(2,51):\n",
    "    if number <= 3 :\n",
    "        print(number,\"is prime\")\n",
    "    elif number % 2 != 0 and number % 3 != 0 :\n",
    "        print(number,\" is prime\")\n",
    "    else : \n",
    "        print(number,\"is composite\")"
   ]
  },
  {
   "cell_type": "code",
   "execution_count": 1,
   "id": "3dd0d33e-d3b2-43ee-9191-7ec3c12947db",
   "metadata": {},
   "outputs": [
    {
     "name": "stdin",
     "output_type": "stream",
     "text": [
      "enter string to count vowels :  adnan\n"
     ]
    },
    {
     "name": "stdout",
     "output_type": "stream",
     "text": [
      "2\n"
     ]
    }
   ],
   "source": [
    "# Qus : Develop a program that counts the number of vowels in a string using a `for` loop.\n",
    "\n",
    "string = input(\"enter string to count vowels : \")\n",
    "vowels = \"aeiouAEIOU\"\n",
    "count = 0\n",
    "for i in string:\n",
    "    if i in vowels:\n",
    "        count += 1\n",
    "print(count)\n",
    "    "
   ]
  },
  {
   "cell_type": "code",
   "execution_count": 2,
   "id": "0561b209-6dd0-440b-91f9-578629e1fce9",
   "metadata": {},
   "outputs": [
    {
     "name": "stdout",
     "output_type": "stream",
     "text": [
      "23\n"
     ]
    }
   ],
   "source": [
    "# Qus : Write a program to find the maximum element in a 2D list using a nested `for` loop.\n",
    "twoD_list = [\n",
    "    [10, 23, 7],\n",
    "    [14, 8, 2],\n",
    "    [5, 18, 12]\n",
    "]\n",
    "\n",
    "initial = 0\n",
    "\n",
    "for i in twoD_list:\n",
    "    for element in i :\n",
    "        if element > initial :\n",
    "            initial = element \n",
    "print(initial)            \n",
    "        "
   ]
  },
  {
   "cell_type": "code",
   "execution_count": 13,
   "id": "8ee59149-c3e0-4a40-9087-560376c990bd",
   "metadata": {},
   "outputs": [
    {
     "name": "stdout",
     "output_type": "stream",
     "text": [
      "*\n",
      "**\n",
      "***\n",
      "****\n",
      "*****\n",
      "******\n",
      "*******\n",
      "********\n",
      "*********\n",
      "**********\n"
     ]
    }
   ],
   "source": [
    "# Qus : Develop a program that prints the pattern of right-angled triangles using a `for` loop. Use ‘*’ to draw the pattern\n",
    "\n",
    "ht_triangle = 10\n",
    "\n",
    "for i in range(1,ht_triangle + 1) :\n",
    "    for j in range(1, i + 1) :\n",
    "        print(\"*\",end=\"\")\n",
    "    \n",
    "    print()"
   ]
  },
  {
   "cell_type": "code",
   "execution_count": null,
   "id": "22bfac20-c1b5-46ad-8c12-c882fb0b7f34",
   "metadata": {},
   "outputs": [],
   "source": []
  }
 ],
 "metadata": {
  "kernelspec": {
   "display_name": "Python 3 (ipykernel)",
   "language": "python",
   "name": "python3"
  },
  "language_info": {
   "codemirror_mode": {
    "name": "ipython",
    "version": 3
   },
   "file_extension": ".py",
   "mimetype": "text/x-python",
   "name": "python",
   "nbconvert_exporter": "python",
   "pygments_lexer": "ipython3",
   "version": "3.10.8"
  }
 },
 "nbformat": 4,
 "nbformat_minor": 5
}
