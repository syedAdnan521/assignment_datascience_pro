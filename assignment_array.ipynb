{
 "cells": [
  {
   "cell_type": "code",
   "execution_count": 2,
   "id": "4fda8a2c-944a-46b8-af63-3fddc2595c49",
   "metadata": {},
   "outputs": [
    {
     "name": "stdout",
     "output_type": "stream",
     "text": [
      "True\n"
     ]
    }
   ],
   "source": [
    "def check_duplicate(arr):\n",
    "    duplicate = set()\n",
    "    for i in arr:\n",
    "        if i in duplicate:\n",
    "            return True\n",
    "        duplicate.add(i)\n",
    "     \n",
    "    return False\n",
    "        \n",
    "# Driver code \n",
    "arr = [1, 2, 4, 2, 5, 9]\n",
    "result = check_duplicate(arr)\n",
    "print(result)\n",
    "    "
   ]
  },
  {
   "cell_type": "code",
   "execution_count": 3,
   "id": "e32f9cb4-cc29-4c6e-8cc7-288363131e35",
   "metadata": {},
   "outputs": [
    {
     "name": "stdout",
     "output_type": "stream",
     "text": [
      "Rotated array: [5, 6, 7, 1, 2, 3, 4]\n"
     ]
    }
   ],
   "source": [
    "# Qus : 2. Given an array and an integer k, rotate the array to the right by k steps.\n",
    "# arr = [1, 2, 3, 4, 5, 6, 7] k = 3\n",
    "# Output = [5, 6, 7, 1, 2, 3, 4]\n",
    "\n",
    "def rotate_array(arr, k):\n",
    "    n = len(arr)\n",
    "    k = k % n\n",
    "    \n",
    "    reverse(arr,0,n-1)\n",
    "    #reverse first element\n",
    "    reverse(arr,0,k-1)\n",
    "    #reverse all array\n",
    "    reverse(arr,k,n-1)\n",
    "    \n",
    "    \n",
    "def reverse(arr,start,end):\n",
    "        while start < end :\n",
    "            arr[start],arr[end] = arr[end], arr[start]\n",
    "            start+=  1\n",
    "            end-= 1\n",
    "\n",
    "# driver code \n",
    "arr = [1, 2, 3, 4, 5, 6, 7]\n",
    "k =  3\n",
    "rotate_array(arr, k)\n",
    "\n",
    "print(\"Rotated array:\", arr)\n"
   ]
  },
  {
   "cell_type": "code",
   "execution_count": 8,
   "id": "2d084d6c-f34e-4a83-a83f-7be05ba2f358",
   "metadata": {},
   "outputs": [
    {
     "name": "stdout",
     "output_type": "stream",
     "text": [
      "Reversed array: [12, 9, 7, 5, 4, 2]\n"
     ]
    }
   ],
   "source": [
    "# QUS : 3. Reverse the given array in-place, means without using any extra data structure.\n",
    "# arr = [2, 4, 5, 7, 9, 12]\n",
    "# Output = [12, 9, 7, 5, 4, 2]\n",
    "\n",
    "def reverse_array_in_place(arr):\n",
    "    start, end = 0, len(arr) - 1\n",
    "\n",
    "    while start < end:\n",
    "        # Swap elements at the start and end indices\n",
    "        arr[start], arr[end] = arr[end], arr[start]\n",
    "        # Move indices towards the center\n",
    "        start += 1\n",
    "        end -= 1\n",
    "\n",
    "# Driver Code\n",
    "arr = [2, 4, 5, 7, 9, 12]\n",
    "reverse_array_in_place(arr)\n",
    "\n",
    "print(\"Reversed array:\", arr)\n"
   ]
  },
  {
   "cell_type": "code",
   "execution_count": 32,
   "id": "7363f1fa-56c0-48fe-9e57-fef0c37d809b",
   "metadata": {},
   "outputs": [
    {
     "data": {
      "text/plain": [
       "28"
      ]
     },
     "execution_count": 32,
     "metadata": {},
     "output_type": "execute_result"
    }
   ],
   "source": [
    "# QUS :  Given an array of integers, find the maximum element in an array\n",
    "# arr = [10, 5, 20, 8, 15]\n",
    "# Output = 20\n",
    "\n",
    "def find_max_element(arr):\n",
    "    max_element = arr[0]\n",
    "    for i in arr[1:]:\n",
    "        if i > max_element:\n",
    "            max_element = i\n",
    "    return max_element\n",
    "             \n",
    "# Driver Code\n",
    "arr = [10, 5, 20, 8, 15, 24,28,6]\n",
    "find_max_element(arr)"
   ]
  },
  {
   "cell_type": "code",
   "execution_count": 51,
   "id": "e404306e-ef35-4b3c-b315-48bcee0c6c8d",
   "metadata": {},
   "outputs": [
    {
     "name": "stdout",
     "output_type": "stream",
     "text": [
      "[1, 2, 3, 4, 5, 6]\n"
     ]
    }
   ],
   "source": [
    "# Given a sorted array, remove the duplicate element without using any extra data structure.\n",
    "# arr = [1, 1, 2, 2, 2, 3, 3, 4, 4, 4, 5, 5]\n",
    "# Output = [1, 2, 3, 4, 5]\n",
    "\n",
    "def remove_duplicates(arr):\n",
    "    unique_number = 0\n",
    "    \n",
    "    for i in range(1,len(arr)):\n",
    "        if arr[i] != arr[unique_number]:\n",
    "            unique_number += 1 \n",
    "            arr[unique_number] = arr[i]\n",
    "            \n",
    "    return arr[:unique_number + 1] \n",
    "    \n",
    "# Driver Code\n",
    "arr = [1, 1, 2, 2, 2, 3, 3, 4, 4, 4, 5, 5, 6, 6]\n",
    "result = remove_duplicates(arr)\n",
    "print(result)"
   ]
  },
  {
   "cell_type": "code",
   "execution_count": null,
   "id": "acce6b5a-c992-43ea-b884-18f19c12bf76",
   "metadata": {},
   "outputs": [],
   "source": [
    "    "
   ]
  }
 ],
 "metadata": {
  "kernelspec": {
   "display_name": "Python 3 (ipykernel)",
   "language": "python",
   "name": "python3"
  },
  "language_info": {
   "codemirror_mode": {
    "name": "ipython",
    "version": 3
   },
   "file_extension": ".py",
   "mimetype": "text/x-python",
   "name": "python",
   "nbconvert_exporter": "python",
   "pygments_lexer": "ipython3",
   "version": "3.10.8"
  }
 },
 "nbformat": 4,
 "nbformat_minor": 5
}
